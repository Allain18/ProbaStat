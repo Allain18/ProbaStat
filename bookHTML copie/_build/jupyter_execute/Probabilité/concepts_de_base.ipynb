{
 "cells": [
  {
   "cell_type": "markdown",
   "id": "57da30c2",
   "metadata": {},
   "source": [
    "# Concepts de base\n",
    "\n",
    "Some **intro Markdown**!"
   ]
  },
  {
   "cell_type": "code",
   "execution_count": 1,
   "id": "a8e03da1",
   "metadata": {
    "tags": [
     "mytag"
    ]
   },
   "outputs": [
    {
     "name": "stdout",
     "output_type": "stream",
     "text": [
      "A python cell\n"
     ]
    }
   ],
   "source": [
    "print(\"A python cell\")"
   ]
  },
  {
   "cell_type": "markdown",
   "id": "019a067d",
   "metadata": {},
   "source": [
    "## A section\n",
    "\n",
    "```{figure} tikz.#\n",
    "---\n",
    "height: 350px\n",
    "name: directive-fig\n",
    "---\n",
    "Here is my figure caption!\n",
    "```\n",
    "\n",
    "And some more Markdown...\n",
    "## A section"
   ]
  }
 ],
 "metadata": {
  "jupytext": {
   "formats": "md:myst",
   "text_representation": {
    "extension": ".md",
    "format_name": "myst"
   }
  },
  "kernelspec": {
   "display_name": "Python 3",
   "language": "python",
   "name": "python3"
  },
  "language_info": {
   "codemirror_mode": {
    "name": "ipython",
    "version": 3
   },
   "file_extension": ".py",
   "mimetype": "text/x-python",
   "name": "python",
   "nbconvert_exporter": "python",
   "pygments_lexer": "ipython3",
   "version": "3.8.8"
  },
  "source_map": [
   11,
   17,
   21
  ]
 },
 "nbformat": 4,
 "nbformat_minor": 5
}
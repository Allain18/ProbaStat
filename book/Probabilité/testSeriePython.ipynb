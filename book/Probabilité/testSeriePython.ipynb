{
 "cells": [
  {
   "cell_type": "markdown",
   "execution_count": null,
   "id": "30f9b10c-f25c-4d26-996c-ae92b8359227",
   "metadata": {
    "tags": []
   },
   "source": [
    "# testSerie\n",
    "  ## Exercice 1: \n",
    "\n",
    "On considère $ 100 $ lancers indépendants d'une pièce de monnaie dont la probabilité de tomber sur face est $ 3/5 $. \n",
    "Soient $ X_i $, $ i \\in \\{ 1, \\ldots, 100 \\} $, les variables aléatoires telles que $ X_i=1 $ si on est tombé sur face au $ i^{ème}$ jet et $ X_i=0 $ sinon.\n",
    "\n",
    "1) Quelle est la loi de $X_i$ pour $i\\in\\{1, \\cdots, 100\\}$ ?\n",
    "\n",
    "**Solution**:  \n",
    "  \n",
    "2) Quelle est la loi de $ S_{100} = \\sum_{i=1}^{100} X_i $?\n",
    "\n",
    "**Solution**:  \n",
    "  \n",
    "3) Calculez $ \\mathbb{P}(S_{100} \\leq 60) $."
   ]
  },
  {
   "cell_type": "code",
   "execution_count": null,
   "id": "9abaec77-608c-4467-903e-e0d99fe9a532",
   "metadata": {
    "tags": []
   },
   "outputs": [],
   "source": [
    "from scipy import stats as st\n",
    "import numpy as np\n",
    "\n",
    "n = 100\n",
    "p = 3./5\n",
    "prob = ... \n",
    "# Afficher le résulat\n",
    "...\n"
   ]
  },
  {
   "cell_type": "markdown",
   "execution_count": null,
   "id": "3c3e87a2-808a-4edb-8d1e-2db61c89dcb7",
   "metadata": {},
   "source": [
    "4) Écrire une fonction qui standardise $S_{100}$ et donnez la loi approximative de la variable standardisée.  \n",
    "\n",
    "**Solution**:  \n",
    "  \n"
   ]
  },
  {
   "cell_type": "code",
   "execution_count": null,
   "id": "a0612578-3894-406d-be90-74e1f1d3c33e",
   "metadata": {},
   "outputs": [],
   "source": [
    "# Place your answer here"
   ]
  },
  {
   "cell_type": "markdown",
   "execution_count": null,
   "id": "2263faf9-8843-4e4f-b7b9-4a645a099eda",
   "metadata": {},
   "source": [
    "5) Approximez la valeur de $\\mathbb{P}(S_{100} \\leq 60)$ grâce à la question précédente et comparez cette valeur approximative à la valeur exacte.  \n",
    "\n",
    "**Solution**:  \n",
    "  \n"
   ]
  },
  {
   "cell_type": "code",
   "execution_count": null,
   "id": "db6404df-376f-40d2-ac79-c18b86362c4d",
   "metadata": {},
   "outputs": [],
   "source": [
    "Z = ... \n",
    "prob_ = ... \n",
    "# Afficher le résulat\n",
    "...\n"
   ]
  },
  {
   "cell_type": "markdown",
   "execution_count": null,
   "id": "cfd9253b-c94b-4239-95c5-6e819d10d87e",
   "metadata": {
    "tags": []
   },
   "source": [
    "## Exercice 2: \n",
    "\n",
    "Soit $X$ le résultat du jet d'un dé équilibré.\n",
    "\n",
    "1) Calculez $\\mathbb{E}[X]$ et $\\text{Var}(X)$"
   ]
  },
  {
   "cell_type": "code",
   "execution_count": null,
   "id": "c86f0d0b-4f6c-4417-936b-815794a4ab86",
   "metadata": {
    "tags": []
   },
   "outputs": [],
   "source": [
    "from scipy import stats as st\n",
    "import numpy as np\n",
    "\n",
    "E_X, V_X = ... \n",
    "# Afficher le résultat\n",
    "...\n"
   ]
  },
  {
   "cell_type": "markdown",
   "execution_count": null,
   "id": "685f5663-76d2-41d3-9deb-567b11e59f74",
   "metadata": {},
   "source": [
    "2) On lance $100$ dés équilibrés de façon indépendante. Calculez approximativement la probabilité la somme des $100$ résultats soit comprise entre $340$ et $360$."
   ]
  },
  {
   "cell_type": "code",
   "execution_count": null,
   "id": "8ebc2fda-1ad2-43ec-9aa5-bcc6175983c1",
   "metadata": {
    "tags": []
   },
   "outputs": [],
   "source": [
    "# Place your answer here"
   ]
  }
 ],
 "metadata": {
  "kernelspec": {
   "display_name": "Python 3 (ipykernel)",
   "language": "python",
   "name": "python3"
  },
  "language_info": {
   "codemirror_mode": {
    "name": "ipython",
    "version": 3
   },
   "file_extension": ".py",
   "mimetype": "text/x-python",
   "name": "python",
   "nbconvert_exporter": "python",
   "pygments_lexer": "ipython3",
   "version": "3.8.8"
  }
 },
 "nbformat": 4,
 "nbformat_minor": 5
}

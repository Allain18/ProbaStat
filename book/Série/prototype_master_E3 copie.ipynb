{
 "cells": [
  {
   "cell_type": "markdown",
   "id": "7a4792f4-64c4-4e9e-8b85-fa9db6528669",
   "metadata": {
    "kernel": "SoS",
    "tags": []
   },
   "source": [
    "#0_{} \n",
    "\n",
    "Nous avons à notre disposition les données d'échec ou de réussite de l'examen de cette matière de 2020. Nous allons nous intérésser en particulier à deux variables binaires de ces données:\n",
    "- La section: **S** $\\in\\{\\text{GM},\\text{EL}\\}$\n",
    "- Le succes à l'examen: **A** $\\in\\{0,1\\}$\n",
    "\n",
    "Dans le cadre des probabilités conditionnelles, avec deux variables binaires, une erreur qui revient souvent est de penser que: $$ \\mathbb{P}\\left(\\textbf{A} = 1 | \\textbf{S} = \\text{GM}\\right) + \\mathbb{P}\\left(\\textbf{A} = 1 | \\textbf{S} = \\text{EL}\\right) = 1 $$\n",
    "Néanmoins, cela est généralement faux. Nous allons donc nous appliquer à montrer que cela est faux dans notre cas, ainsi que de voir quel serait la version correcte de cette équation."
   ]
  },
  {
   "cell_type": "code",
   "execution_count": 41,
   "id": "aaf4ca73-3a40-46f9-9061-bfa0484e5e5e",
   "metadata": {
    "kernel": "R",
    "tags": []
   },
   "outputs": [],
   "source": [
    "library(dplyr)\n",
    "\n",
    "data <- read.csv(\"Success_ProbaStat.csv\")"
   ]
  },
  {
   "cell_type": "code",
   "execution_count": 42,
   "id": "b90b964d-8030-4d79-8c6c-101e4d8f3bcf",
   "metadata": {
    "kernel": "Python3",
    "tags": []
   },
   "outputs": [],
   "source": [
    "import pandas as pd\n",
    "data = pd.read_csv(\"Success_ProbaStat.csv\")"
   ]
  },
  {
   "cell_type": "markdown",
   "id": "6926d7d4-9a32-4b3e-a3cc-1850307c6bf9",
   "metadata": {
    "kernel": "R"
   },
   "source": [
    "#2 Synthétiser ces données de façon à avoir le nombre d'échec ou de réussite par section."
   ]
  },
  {
   "cell_type": "code",
   "execution_count": 43,
   "id": "1caec49b-584a-477e-b520-9892466503c2",
   "metadata": {
    "kernel": "R"
   },
   "outputs": [
    {
     "data": {
      "text/html": [
       "<table class=\"dataframe\">\n",
       "<caption>A data.frame: 4 × 4</caption>\n",
       "<thead>\n",
       "\t<tr><th scope=col>Section</th><th scope=col>Succes</th><th scope=col>n</th><th scope=col>prop</th></tr>\n",
       "\t<tr><th scope=col>&lt;chr&gt;</th><th scope=col>&lt;int&gt;</th><th scope=col>&lt;int&gt;</th><th scope=col>&lt;dbl&gt;</th></tr>\n",
       "</thead>\n",
       "<tbody>\n",
       "\t<tr><td>EL</td><td>0</td><td> 11</td><td>0.04526749</td></tr>\n",
       "\t<tr><td>EL</td><td>1</td><td> 38</td><td>0.15637860</td></tr>\n",
       "\t<tr><td>GM</td><td>0</td><td> 32</td><td>0.13168724</td></tr>\n",
       "\t<tr><td>GM</td><td>1</td><td>162</td><td>0.66666667</td></tr>\n",
       "</tbody>\n",
       "</table>\n"
      ],
      "text/latex": [
       "A data.frame: 4 × 4\n",
       "\\begin{tabular}{llll}\n",
       " Section & Succes & n & prop\\\\\n",
       " <chr> & <int> & <int> & <dbl>\\\\\n",
       "\\hline\n",
       "\t EL & 0 &  11 & 0.04526749\\\\\n",
       "\t EL & 1 &  38 & 0.15637860\\\\\n",
       "\t GM & 0 &  32 & 0.13168724\\\\\n",
       "\t GM & 1 & 162 & 0.66666667\\\\\n",
       "\\end{tabular}\n"
      ],
      "text/markdown": [
       "\n",
       "A data.frame: 4 × 4\n",
       "\n",
       "| Section &lt;chr&gt; | Succes &lt;int&gt; | n &lt;int&gt; | prop &lt;dbl&gt; |\n",
       "|---|---|---|---|\n",
       "| EL | 0 |  11 | 0.04526749 |\n",
       "| EL | 1 |  38 | 0.15637860 |\n",
       "| GM | 0 |  32 | 0.13168724 |\n",
       "| GM | 1 | 162 | 0.66666667 |\n",
       "\n"
      ],
      "text/plain": [
       "  Section Succes n   prop      \n",
       "1 EL      0       11 0.04526749\n",
       "2 EL      1       38 0.15637860\n",
       "3 GM      0       32 0.13168724\n",
       "4 GM      1      162 0.66666667"
      ]
     },
     "metadata": {},
     "output_type": "display_data"
    }
   ],
   "source": [
    "#SolutionToRemove\n",
    "Prop <- data %>% count(Section, Succes) %>% mutate(prop = prop.table(n))\n",
    "Prop"
   ]
  },
  {
   "cell_type": "code",
   "execution_count": 44,
   "id": "da9323a0-dcdc-429a-883f-18a2ad903fdc",
   "metadata": {
    "kernel": "Python3",
    "tags": []
   },
   "outputs": [
    {
     "data": {
      "text/plain": [
       "Section  Succes\n",
       "GM       1         0.666667\n",
       "EL       1         0.156379\n",
       "GM       0         0.131687\n",
       "EL       0         0.045267\n",
       "dtype: float64"
      ]
     },
     "execution_count": 44,
     "metadata": {},
     "output_type": "execute_result"
    }
   ],
   "source": [
    "#SolutionToRemove\n",
    "n = len(data)\n",
    "Prop = data.value_counts(subset = [\"Section\",\"Succes\"])/n\n",
    "Prop"
   ]
  },
  {
   "cell_type": "markdown",
   "id": "d9161036-666c-4a0c-bb59-bb0d7850d479",
   "metadata": {
    "kernel": "R"
   },
   "source": [
    "#2 Montrer expérimentalement que $ \\mathbb{P}\\left(\\textbf{A} = 1 | \\textbf{S} = \\text{GM}\\right) + \\mathbb{P}\\left(\\textbf{A} = 1 | \\textbf{S} = \\text{EL}\\right) \\neq 1 $:"
   ]
  },
  {
   "cell_type": "code",
   "execution_count": 45,
   "id": "345f801c-8888-4c63-99ec-a5527dab8792",
   "metadata": {
    "kernel": "Python3"
   },
   "outputs": [
    {
     "data": {
      "text/plain": [
       "1.6105617504733853"
      ]
     },
     "execution_count": 45,
     "metadata": {},
     "output_type": "execute_result"
    }
   ],
   "source": [
    "#SolutionToRemove\n",
    "\n",
    "# Probabilité empirique d'être en GM ou en EL\n",
    "prop_section = data.value_counts(subset = [\"Section\"])/n\n",
    "# Calcul de cette somme de probabilité\n",
    "prob_sum = Prop[0]/prop_section[0] + Prop[1]/prop_section[1]\n",
    "prob_sum"
   ]
  },
  {
   "cell_type": "code",
   "execution_count": 46,
   "id": "2bd104d0-9038-4424-8da2-3247fbfc665b",
   "metadata": {
    "kernel": "R"
   },
   "outputs": [
    {
     "data": {
      "text/html": [
       "1.61056175047339"
      ],
      "text/latex": [
       "1.61056175047339"
      ],
      "text/markdown": [
       "1.61056175047339"
      ],
      "text/plain": [
       "[1] 1.610562"
      ]
     },
     "metadata": {},
     "output_type": "display_data"
    }
   ],
   "source": [
    "#SolutionToRemove\n",
    "# Probabilité empirique d'être en GM ou en EL\n",
    "prop_section <- data %>% count(Section) %>% mutate(prop = prop.table(n))\n",
    "# Probabilité empirique de réussir l'examen en fonction de la section GM ou en EL\n",
    "prop_succes <- Prop %>% filter(Succes == 1) %>% select(Section,prop)\n",
    "# Probabilité empirique de ne pas réussir l'examen en fonction de la section GM ou en EL\n",
    "prop_fail <- Prop %>% filter(Succes == 0) %>% select(Section,prop)\n",
    "\n",
    "# Calcul de cette somme de probabilité\n",
    "prob_sum <- prop_succes[1,2]/prop_section[1,3] + prop_succes[2,2]/prop_section[2,3]\n",
    "prob_sum"
   ]
  },
  {
   "cell_type": "markdown",
   "id": "edd35636-33c2-455e-a25a-2a3ca81eabe2",
   "metadata": {
    "kernel": "R"
   },
   "source": [
    "#2 Cette erreur est plutôt commune et vient d'une confusion avec une autre équation qui elle est correcte:\n",
    "$$\\mathbb{P}\\left(\\textbf{A} = 1 | \\textbf{S} = \\text{s}\\right) + \\mathbb{P}\\left(\\textbf{A} = 0 | \\textbf{S} = \\text{s}\\right) = 1, \\forall s\\in\\{\\text{GM},\\text{EL}\\}$$\n",
    "Vérifier expérimentalement que cette équation est correcte.\n",
    "\n",
    "#AnswerNeutral \n",
    "**Solution**:  \n",
    "Ce résultat est vrai de manière générale, il découle directement de la définition de la probabilité conditionnel. Sauriez-vous montrer rigoureusement pourquoi cela est vrai ?\n",
    "#AnswerNeutral_"
   ]
  },
  {
   "cell_type": "code",
   "execution_count": 47,
   "id": "8b883535-3143-4390-b613-1647794965d9",
   "metadata": {
    "kernel": "Python3",
    "tags": []
   },
   "outputs": [
    {
     "name": "stdout",
     "output_type": "stream",
     "text": [
      "EL = 1.0, GM = 0.9999999999999999\n"
     ]
    }
   ],
   "source": [
    "#SolutionToRemove\n",
    "\n",
    "EL = Prop[1]/prop_section[1] + Prop[3]/prop_section[1]\n",
    "GM = Prop[0]/prop_section[0] + Prop[2]/prop_section[0]\n",
    "\n",
    "print(f\"EL = {EL}, GM = {GM}\")"
   ]
  },
  {
   "cell_type": "code",
   "execution_count": 48,
   "id": "ab5db9c2-3893-4652-93d2-647d9ac979c6",
   "metadata": {
    "kernel": "R"
   },
   "outputs": [
    {
     "data": {
      "text/html": [
       "1"
      ],
      "text/latex": [
       "1"
      ],
      "text/markdown": [
       "1"
      ],
      "text/plain": [
       "[1] 1"
      ]
     },
     "metadata": {},
     "output_type": "display_data"
    },
    {
     "data": {
      "text/html": [
       "1"
      ],
      "text/latex": [
       "1"
      ],
      "text/markdown": [
       "1"
      ],
      "text/plain": [
       "[1] 1"
      ]
     },
     "metadata": {},
     "output_type": "display_data"
    }
   ],
   "source": [
    "#SolutionToRemove\n",
    "EL <- prop_succes[1,2]/prop_section[1,3] + prop_fail[1,2]/prop_section[1,3]\n",
    "GM <- prop_succes[2,2]/prop_section[2,3] + prop_fail[2,2]/prop_section[2,3]\n",
    "\n",
    "EL\n",
    "GM"
   ]
  }
 ],
 "metadata": {
  "kernelspec": {
   "display_name": "SoS",
   "language": "sos",
   "name": "sos"
  },
  "language_info": {
   "codemirror_mode": "sos",
   "file_extension": ".sos",
   "mimetype": "text/x-sos",
   "name": "sos",
   "nbconvert_exporter": "sos_notebook.converter.SoS_Exporter",
   "pygments_lexer": "sos"
  },
  "sos": {
   "kernels": [
    [
     "Python3",
     "python3",
     "Python3",
     "#FFD91A",
     {
      "name": "ipython",
      "version": 3
     }
    ],
    [
     "R",
     "ir",
     "R",
     "#DCDCDA",
     "r"
    ]
   ],
   "version": "0.23.3"
  }
 },
 "nbformat": 4,
 "nbformat_minor": 5
}

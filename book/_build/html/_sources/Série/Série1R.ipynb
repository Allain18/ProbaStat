{
 "cells": [
  {
   "cell_type": "markdown",
   "execution_count": null,
   "id": "36c6d462-4e34-45b1-bb4a-9b84e9ced64d",
   "metadata": {
    "tags": []
   },
   "source": [
    "# Série1\n",
    "  ## Exercice 1:  \n",
    "\n",
    "On a observé la taille de 15 femmes. Le boxplot et l'histogramme ci-dessous ont été construits avec ces données:\n",
    "\n",
    "|||||||||||||||||\n",
    "|:--:|:--:|:--:|:--:|:--:|:--:|:--:|:--:|:--:|:--:|:--:|:--:|:--:|:--:|:--:|:--:|\n",
    "| **Taille** | 147 | 59 | 152 | 155 | 157 | 160 | 64 | 165 | 168 | 170 | 173 | 175 | 178 | 180 | 183 |"
   ]
  },
  {
   "cell_type": "code",
   "execution_count": null,
   "id": "926337aa-91c2-4011-b5ef-5ed0f264b996",
   "metadata": {
    "tags": []
   },
   "outputs": [],
   "source": [
    "library(ggplot2)\n",
    "library(dplyr)\n",
    "library(patchwork)\n",
    "\n",
    "data <- matrix(c(147 , 59 , 152 , 155 , 157 , 160 , 64 , 165 , 168 , 170 , 173 , 175 , 178 , 180 , 183), nrow=15, \n",
    "                ncol=1, byrow=FALSE)\n",
    "data <- data.frame(data,stringsAsFactors = TRUE)\n",
    "colnames(data) <- c(\"Taille\")"
   ]
  },
  {
   "cell_type": "markdown",
   "execution_count": null,
   "id": "896675cc-92ee-4365-b705-cda535551f7a",
   "metadata": {},
   "source": [
    "1) Calculer la moyenne et la médiane des tailles observées, puis faire un boxplot et un histogramme de ces tailles. Sur chacun de ces graphiques faire apparaître la moyenne et la médiane."
   ]
  },
  {
   "cell_type": "code",
   "execution_count": null,
   "id": "61fde28b-312d-4344-8718-7fe738039a0e",
   "metadata": {
    "tags": []
   },
   "outputs": [],
   "source": [
    "# Calculer la moyenne et la médiane des tailles observées\n",
    "mean <- ... \n",
    "median <- ... \n",
    "\n",
    "# Faire un boxplot et un histogramme\n",
    "...\n"
   ]
  },
  {
   "cell_type": "markdown",
   "execution_count": null,
   "id": "d8a5f884-a19a-4779-9fa6-b20184566a5e",
   "metadata": {},
   "source": [
    "2) Entre la moyenne et la médiane, laquelle de ces deux caractéristiques représente le mieux la tendance centrale de la \n",
    "distribution des tailles? Justifiez votre réponse.\n",
    "\n",
    "**Solution**:  \n",
    "  \n",
    "3) Si l'on considère seulement les tailles supérieures à $ 140 $ cm,  on obtient une moyenne de $ 166.4 $ cm et une médiane de $ 168 $ cm.  Commentez la phrase suivante : *“La médiane est plus robuste que la moyenne.”*\n",
    "\n",
    "**Solution**:  \n",
    "  \n",
    "4) Calculer l'écart-type et l'écart inter-quartile pour l'ensemble des tailles et pour les tailles supérieure à $140$ cm. Laquelle de ces deux caractéristiques vous semble la plus robuste?\n",
    "\n",
    "**Solution**:  \n",
    "  \n"
   ]
  },
  {
   "cell_type": "code",
   "execution_count": null,
   "id": "8fc38602-c892-47f0-b94f-28b5aa375361",
   "metadata": {},
   "outputs": [],
   "source": [
    "# Calcul de l'écart inter-quartiles\n",
    "#C3\n",
    "quantile <- quantile(data$Taille,c(0.25,0.75), type =1)#C3_\n",
    "#C3\n",
    "EIQ <- as.double(quantile[2]-quantile[1])#C3_\n",
    "\n",
    "# Calcul de l'écart-type\n",
    "#C3\n",
    "std <- sd(data$Taille)#C3_\n",
    "\n",
    "# Sélection des tailles supérieures à 140cm\n",
    "data_140 <- data %>% filter(Taille > 140)\n",
    "\n",
    "# Calcul de l'écart inter-quartile et de l'écart-type pour les tailles supérieures à 140cm\n",
    "#C3\n",
    "quantile_140 <- quantile(data_140$Taille,c(0.25,0.75), type =1)#C3_\n",
    "#C3\n",
    "EIQ_140 <- as.double(quantile_140[2]-quantile_140[1])#C3_\n",
    "#C3\n",
    "std_140 <- sd(data_140$Taille)#C3_\n",
    "\n",
    "# Affichage des valeures obtenues#C2\n",
    "print(paste0(\"Sur l'ensemble des tailles observées, l'écart inter-quartile est EIQ = \",\n",
    "             toString(trunc(EIQ*10^2)/10^2),\"cm et l'écart-type est de \",toString(trunc(std*10^2,4)/10^2),\"cm\"))\n",
    "print(paste0(\"Sur l'ensemble des tailles supérieures à 140cm, l'écart inter-quartile est EIQ = \",\n",
    "             toString(trunc(EIQ_140*10^2)/10^2),\"cm et l'écart-type est de \",toString(trunc(std_140*10^2,4)/10^2),\"cm\"))\n",
    "#C2_"
   ]
  },
  {
   "cell_type": "markdown",
   "execution_count": null,
   "id": "cf544f7d-0957-42f3-b356-27a1469460c4",
   "metadata": {
    "tags": []
   },
   "source": [
    "## Exercice 2:  \n",
    "\n",
    "On a observé les précipitations journalières 01.01.2000 - 10.07.2022 de la station météo Suisse de Changrins. "
   ]
  },
  {
   "cell_type": "code",
   "execution_count": null,
   "id": "b98b0912-c39b-4486-9c64-11b2e1a9b26d",
   "metadata": {
    "tags": []
   },
   "outputs": [],
   "source": [
    "data = read.csv('Precipitations_journalieres_Changins.csv',sep=\",\",header = FALSE)\n",
    "colnames(data) = c(\"Date\",\"Précipitation\")"
   ]
  },
  {
   "cell_type": "markdown",
   "execution_count": null,
   "id": "210aed38-02ed-4ddc-9edd-c9af3ebdaec7",
   "metadata": {},
   "source": [
    "1) Calculer la moyenne et la médiane de ces données. Puis, faire un boxplot et un histogramme de ces données et faire apparaitre la moyenne et la médiane sur chacunes de ces figures."
   ]
  },
  {
   "cell_type": "code",
   "execution_count": null,
   "id": "9645cb9b-6b39-461e-8120-9ed13d60d98a",
   "metadata": {
    "tags": []
   },
   "outputs": [],
   "source": [
    "library(ggplot2)\n",
    "library(patchwork)\n",
    "# Calculer la moyenne et la médiane des tailles observées\n",
    "mean <- ... \n",
    "median <- ... \n",
    "\n",
    "# Faire un boxplot et un histogramme\n",
    "...\n"
   ]
  },
  {
   "cell_type": "markdown",
   "execution_count": null,
   "id": "8e68eae7-58e8-47fa-9418-12c56b519d01",
   "metadata": {},
   "source": [
    "2) Laquelle de ces deux caractéristiques représente le mieux la tendance centrale de la \n",
    "distribution? Justifiez votre réponse.\n",
    "\n",
    "**Solution**:  \n",
    "  \n"
   ]
  },
  {
   "cell_type": "markdown",
   "execution_count": null,
   "id": "36c6d462-4e34-45b1-bb4a-9b84e9ced64d",
   "metadata": {
    "tags": []
   },
   "source": [
    "## Exercice 3:  \n",
    "\n",
    "On a observé la taille de 15 femmes. Le boxplot et l'histogramme ci-dessous ont été construits avec ces données:\n",
    "\n",
    "|||||||||||||||||\n",
    "|:--:|:--:|:--:|:--:|:--:|:--:|:--:|:--:|:--:|:--:|:--:|:--:|:--:|:--:|:--:|:--:|\n",
    "| **Taille** | 147 | 59 | 152 | 155 | 157 | 160 | 64 | 165 | 168 | 170 | 173 | 175 | 178 | 180 | 183 |"
   ]
  },
  {
   "cell_type": "code",
   "execution_count": null,
   "id": "926337aa-91c2-4011-b5ef-5ed0f264b996",
   "metadata": {
    "tags": []
   },
   "outputs": [],
   "source": [
    "library(ggplot2)\n",
    "library(dplyr)\n",
    "library(patchwork)\n",
    "\n",
    "data <- matrix(c(147 , 59 , 152 , 155 , 157 , 160 , 64 , 165 , 168 , 170 , 173 , 175 , 178 , 180 , 183), nrow=15, \n",
    "                ncol=1, byrow=FALSE)\n",
    "data <- data.frame(data,stringsAsFactors = TRUE)\n",
    "colnames(data) <- c(\"Taille\")"
   ]
  },
  {
   "cell_type": "markdown",
   "execution_count": null,
   "id": "896675cc-92ee-4365-b705-cda535551f7a",
   "metadata": {},
   "source": [
    "1) Calculer la moyenne et la médiane des tailles observées, puis faire un boxplot et un histogramme de ces tailles. Sur chacun de ces graphiques faire apparaître la moyenne et la médiane."
   ]
  },
  {
   "cell_type": "code",
   "execution_count": null,
   "id": "61fde28b-312d-4344-8718-7fe738039a0e",
   "metadata": {
    "tags": []
   },
   "outputs": [],
   "source": [
    "# Calculer la moyenne et la médiane des tailles observées\n",
    "mean <- ... \n",
    "median <- ... \n",
    "\n",
    "# Faire un boxplot et un histogramme\n",
    "...\n"
   ]
  },
  {
   "cell_type": "markdown",
   "execution_count": null,
   "id": "d8a5f884-a19a-4779-9fa6-b20184566a5e",
   "metadata": {},
   "source": [
    "2) Entre la moyenne et la médiane, laquelle de ces deux caractéristiques représente le mieux la tendance centrale de la \n",
    "distribution des tailles? Justifiez votre réponse.\n",
    "\n",
    "**Solution**:  \n",
    "  \n",
    "3) Si l'on considère seulement les tailles supérieures à $ 140 $ cm,  on obtient une moyenne de $ 166.4 $ cm et une médiane de $ 168 $ cm.  Commentez la phrase suivante : *“La médiane est plus robuste que la moyenne.”*\n",
    "\n",
    "**Solution**:  \n",
    "  \n",
    "4) Calculer l'écart-type et l'écart inter-quartile pour l'ensemble des tailles et pour les tailles supérieure à $140$ cm. Laquelle de ces deux caractéristiques vous semble la plus robuste?\n",
    "\n",
    "**Solution**:  \n",
    "  \n"
   ]
  },
  {
   "cell_type": "code",
   "execution_count": null,
   "id": "8fc38602-c892-47f0-b94f-28b5aa375361",
   "metadata": {},
   "outputs": [],
   "source": [
    "# Calcul de l'écart inter-quartiles\n",
    "#C3\n",
    "quantile <- quantile(data$Taille,c(0.25,0.75), type =1)#C3_\n",
    "#C3\n",
    "EIQ <- as.double(quantile[2]-quantile[1])#C3_\n",
    "\n",
    "# Calcul de l'écart-type\n",
    "#C3\n",
    "std <- sd(data$Taille)#C3_\n",
    "\n",
    "# Sélection des tailles supérieures à 140cm\n",
    "data_140 <- data %>% filter(Taille > 140)\n",
    "\n",
    "# Calcul de l'écart inter-quartile et de l'écart-type pour les tailles supérieures à 140cm\n",
    "#C3\n",
    "quantile_140 <- quantile(data_140$Taille,c(0.25,0.75), type =1)#C3_\n",
    "#C3\n",
    "EIQ_140 <- as.double(quantile_140[2]-quantile_140[1])#C3_\n",
    "#C3\n",
    "std_140 <- sd(data_140$Taille)#C3_\n",
    "\n",
    "# Affichage des valeures obtenues#C2\n",
    "print(paste0(\"Sur l'ensemble des tailles observées, l'écart inter-quartile est EIQ = \",\n",
    "             toString(trunc(EIQ*10^2)/10^2),\"cm et l'écart-type est de \",toString(trunc(std*10^2,4)/10^2),\"cm\"))\n",
    "print(paste0(\"Sur l'ensemble des tailles supérieures à 140cm, l'écart inter-quartile est EIQ = \",\n",
    "             toString(trunc(EIQ_140*10^2)/10^2),\"cm et l'écart-type est de \",toString(trunc(std_140*10^2,4)/10^2),\"cm\"))\n",
    "#C2_"
   ]
  },
  {
   "cell_type": "markdown",
   "execution_count": null,
   "id": "cf544f7d-0957-42f3-b356-27a1469460c4",
   "metadata": {
    "tags": []
   },
   "source": [
    "## Exercice 4:  \n",
    "\n",
    "On a observé les précipitations journalières 01.01.2000 - 10.07.2022 de la station météo Suisse de Changrins. "
   ]
  },
  {
   "cell_type": "code",
   "execution_count": null,
   "id": "b98b0912-c39b-4486-9c64-11b2e1a9b26d",
   "metadata": {
    "tags": []
   },
   "outputs": [],
   "source": [
    "data = read.csv('Precipitations_journalieres_Changins.csv',sep=\",\",header = FALSE)\n",
    "colnames(data) = c(\"Date\",\"Précipitation\")"
   ]
  },
  {
   "cell_type": "markdown",
   "execution_count": null,
   "id": "210aed38-02ed-4ddc-9edd-c9af3ebdaec7",
   "metadata": {},
   "source": [
    "1) Calculer la moyenne et la médiane de ces données. Puis, faire un boxplot et un histogramme de ces données et faire apparaitre la moyenne et la médiane sur chacunes de ces figures."
   ]
  },
  {
   "cell_type": "code",
   "execution_count": null,
   "id": "9645cb9b-6b39-461e-8120-9ed13d60d98a",
   "metadata": {
    "tags": []
   },
   "outputs": [],
   "source": [
    "library(ggplot2)\n",
    "library(patchwork)\n",
    "# Calculer la moyenne et la médiane des tailles observées\n",
    "mean <- ... \n",
    "median <- ... \n",
    "\n",
    "# Faire un boxplot et un histogramme\n",
    "...\n"
   ]
  },
  {
   "cell_type": "markdown",
   "execution_count": null,
   "id": "8e68eae7-58e8-47fa-9418-12c56b519d01",
   "metadata": {},
   "source": [
    "2) Laquelle de ces deux caractéristiques représente le mieux la tendance centrale de la \n",
    "distribution? Justifiez votre réponse.\n",
    "\n",
    "**Solution**:  \n",
    "  \n"
   ]
  }
 ],
 "metadata": {
  "kernelspec": {
   "display_name": "R",
   "language": "R",
   "name": "ir"
  },
  "language_info": {
   "codemirror_mode": "r",
   "file_extension": ".r",
   "mimetype": "text/x-r-source",
   "name": "R",
   "pygments_lexer": "r",
   "version": "4.2.1"
  }
 },
 "nbformat": 4,
 "nbformat_minor": 5
}

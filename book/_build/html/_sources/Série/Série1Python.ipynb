{
 "cells": [
  {
   "cell_type": "markdown",
   "execution_count": null,
   "id": "36c6d462-4e34-45b1-bb4a-9b84e9ced64d",
   "metadata": {
    "tags": []
   },
   "source": [
    "# Série1\n",
    "  ## Exercice 1:  \n",
    "\n",
    "On a observé la taille de 15 femmes. Le boxplot et l'histogramme ci-dessous ont été construits avec ces données:\n",
    "\n",
    "|||||||||||||||||\n",
    "|:--:|:--:|:--:|:--:|:--:|:--:|:--:|:--:|:--:|:--:|:--:|:--:|:--:|:--:|:--:|:--:|\n",
    "| **Taille** | 147 | 59 | 152 | 155 | 157 | 160 | 64 | 165 | 168 | 170 | 173 | 175 | 178 | 180 | 183 |"
   ]
  },
  {
   "cell_type": "code",
   "execution_count": null,
   "id": "898d50da-e210-4cac-9352-86d214f7f7b8",
   "metadata": {
    "tags": []
   },
   "outputs": [],
   "source": [
    "import pandas as pd \n",
    "import numpy as np\n",
    "import matplotlib.pyplot as plt\n",
    "\n",
    "data = pd.DataFrame(np.array([147 , 59 , 152 , 155 , 157 , 160 , 64 , 165 , 168 , 170 , 173 , 175 , 178 , 180 , 183]).transpose(), \n",
    "                     columns=[\"Taille\"])"
   ]
  },
  {
   "cell_type": "markdown",
   "execution_count": null,
   "id": "896675cc-92ee-4365-b705-cda535551f7a",
   "metadata": {},
   "source": [
    "1) Calculer la moyenne et la médiane des tailles observées, puis faire un boxplot et un histogramme de ces tailles. Sur chacun de ces graphiques faire apparaître la moyenne et la médiane."
   ]
  },
  {
   "cell_type": "code",
   "execution_count": null,
   "id": "fc21b4d9-4fe0-4d19-aa95-1f8dfd049d75",
   "metadata": {},
   "outputs": [],
   "source": [
    "# Calculer la moyenne et la médiane des tailles observées\n",
    "mean = ... \n",
    "median = ... \n",
    "\n",
    "# Faire un boxplot et un histogramme\n",
    "...\n"
   ]
  },
  {
   "cell_type": "markdown",
   "execution_count": null,
   "id": "d8a5f884-a19a-4779-9fa6-b20184566a5e",
   "metadata": {},
   "source": [
    "2) Entre la moyenne et la médiane, laquelle de ces deux caractéristiques représente le mieux la tendance centrale de la \n",
    "distribution des tailles? Justifiez votre réponse.\n",
    "\n",
    "**Solution**:  \n",
    "  \n",
    "3) Si l'on considère seulement les tailles supérieures à $ 140 $ cm,  on obtient une moyenne de $ 166.4 $ cm et une médiane de $ 168 $ cm.  Commentez la phrase suivante : *“La médiane est plus robuste que la moyenne.”*\n",
    "\n",
    "**Solution**:  \n",
    "  \n",
    "4) Calculer l'écart-type et l'écart inter-quartile pour l'ensemble des tailles et pour les tailles supérieure à $140$ cm. Laquelle de ces deux caractéristiques vous semble la plus robuste?\n",
    "\n",
    "**Solution**:  \n",
    "  \n"
   ]
  },
  {
   "cell_type": "code",
   "execution_count": null,
   "id": "9d657969-320a-4bd6-8722-69081a558e32",
   "metadata": {
    "tags": []
   },
   "outputs": [],
   "source": [
    "# Calcul de l'écart inter-quartiles\n",
    "#C3\n",
    "quantile = data.Taille.quantile((0.25,0.75), interpolation = \"inverted_cdf\").rename(\"Quantiles\").to_frame()#C3_\n",
    "#C3\n",
    "EIQ = quantile[\"Quantiles\"][0.75] - quantile[\"Quantiles\"][0.25]#C3_\n",
    "\n",
    "# Calcul de l'écart-type\n",
    "#C3\n",
    "std = data.Taille.std()#C3_\n",
    "\n",
    "# Sélection des tailles supérieures à 140cm\n",
    "data_140 = data[data.Taille > 140]\n",
    "\n",
    "# Calcul de l'écart inter-quartile et de l'écart-type pour les tailles supérieures à 140cm\n",
    "#C3\n",
    "quantile_140 = data_140.Taille.quantile((0.25,0.75), interpolation = \"inverted_cdf\").rename(\"Quantiles\").to_frame()#C3_\n",
    "#C3\n",
    "EIQ_140 = quantile_140[\"Quantiles\"][0.75] - quantile_140[\"Quantiles\"][0.25]#C3_\n",
    "#C3\n",
    "std_140 = data_140.Taille.std()#C3_\n",
    "\n",
    "# Affichage des valeures obtenues#C2\n",
    "print(f\"Sur l'ensemble des tailles observées, l'écart inter-quartile est EIQ = {EIQ}cm et l'écart-type est de {std:.2f}cm\")\n",
    "print(f\"Sur l'ensemble des tailles supérieures à 140cm, l'écart inter-quartile est EIQ = {EIQ_140}cm et l'écart-type est de {std_140:.2f}cm\")\n",
    "#C2_"
   ]
  },
  {
   "cell_type": "markdown",
   "execution_count": null,
   "id": "cf544f7d-0957-42f3-b356-27a1469460c4",
   "metadata": {
    "tags": []
   },
   "source": [
    "## Exercice 2:  \n",
    "\n",
    "On a observé les précipitations journalières 01.01.2000 - 10.07.2022 de la station météo Suisse de Changrins. "
   ]
  },
  {
   "cell_type": "code",
   "execution_count": null,
   "id": "5fe06f93-c3ba-47e4-92d0-193f0d540bc0",
   "metadata": {
    "tags": []
   },
   "outputs": [],
   "source": [
    "import pandas as pd\n",
    "data = pd.read_csv('Precipitations_journalieres_Changins.csv',sep=',',names= [\"Date\",\"Précipitation\"])"
   ]
  },
  {
   "cell_type": "markdown",
   "execution_count": null,
   "id": "210aed38-02ed-4ddc-9edd-c9af3ebdaec7",
   "metadata": {},
   "source": [
    "1) Calculer la moyenne et la médiane de ces données. Puis, faire un boxplot et un histogramme de ces données et faire apparaitre la moyenne et la médiane sur chacunes de ces figures."
   ]
  },
  {
   "cell_type": "code",
   "execution_count": null,
   "id": "f71d2f14-305d-4c84-9c76-6a8aca641cb4",
   "metadata": {
    "tags": []
   },
   "outputs": [],
   "source": [
    "import matplotlib.pyplot as plt\n",
    "# Calculer la moyenne et la médiane des tailles observées\n",
    "mean = ... \n",
    "median = ... \n",
    "\n",
    "# Faire un boxplot et un histogramme\n",
    "...\n"
   ]
  },
  {
   "cell_type": "markdown",
   "execution_count": null,
   "id": "8e68eae7-58e8-47fa-9418-12c56b519d01",
   "metadata": {},
   "source": [
    "2) Laquelle de ces deux caractéristiques représente le mieux la tendance centrale de la \n",
    "distribution? Justifiez votre réponse.\n",
    "\n",
    "**Solution**:  \n",
    "  \n"
   ]
  },
  {
   "cell_type": "markdown",
   "execution_count": null,
   "id": "36c6d462-4e34-45b1-bb4a-9b84e9ced64d",
   "metadata": {
    "tags": []
   },
   "source": [
    "## Exercice 3:  \n",
    "\n",
    "On a observé la taille de 15 femmes. Le boxplot et l'histogramme ci-dessous ont été construits avec ces données:\n",
    "\n",
    "|||||||||||||||||\n",
    "|:--:|:--:|:--:|:--:|:--:|:--:|:--:|:--:|:--:|:--:|:--:|:--:|:--:|:--:|:--:|:--:|\n",
    "| **Taille** | 147 | 59 | 152 | 155 | 157 | 160 | 64 | 165 | 168 | 170 | 173 | 175 | 178 | 180 | 183 |"
   ]
  },
  {
   "cell_type": "code",
   "execution_count": null,
   "id": "898d50da-e210-4cac-9352-86d214f7f7b8",
   "metadata": {
    "tags": []
   },
   "outputs": [],
   "source": [
    "import pandas as pd \n",
    "import numpy as np\n",
    "import matplotlib.pyplot as plt\n",
    "\n",
    "data = pd.DataFrame(np.array([147 , 59 , 152 , 155 , 157 , 160 , 64 , 165 , 168 , 170 , 173 , 175 , 178 , 180 , 183]).transpose(), \n",
    "                     columns=[\"Taille\"])"
   ]
  },
  {
   "cell_type": "markdown",
   "execution_count": null,
   "id": "896675cc-92ee-4365-b705-cda535551f7a",
   "metadata": {},
   "source": [
    "1) Calculer la moyenne et la médiane des tailles observées, puis faire un boxplot et un histogramme de ces tailles. Sur chacun de ces graphiques faire apparaître la moyenne et la médiane."
   ]
  },
  {
   "cell_type": "code",
   "execution_count": null,
   "id": "fc21b4d9-4fe0-4d19-aa95-1f8dfd049d75",
   "metadata": {},
   "outputs": [],
   "source": [
    "# Calculer la moyenne et la médiane des tailles observées\n",
    "mean = ... \n",
    "median = ... \n",
    "\n",
    "# Faire un boxplot et un histogramme\n",
    "...\n"
   ]
  },
  {
   "cell_type": "markdown",
   "execution_count": null,
   "id": "d8a5f884-a19a-4779-9fa6-b20184566a5e",
   "metadata": {},
   "source": [
    "2) Entre la moyenne et la médiane, laquelle de ces deux caractéristiques représente le mieux la tendance centrale de la \n",
    "distribution des tailles? Justifiez votre réponse.\n",
    "\n",
    "**Solution**:  \n",
    "  \n",
    "3) Si l'on considère seulement les tailles supérieures à $ 140 $ cm,  on obtient une moyenne de $ 166.4 $ cm et une médiane de $ 168 $ cm.  Commentez la phrase suivante : *“La médiane est plus robuste que la moyenne.”*\n",
    "\n",
    "**Solution**:  \n",
    "  \n",
    "4) Calculer l'écart-type et l'écart inter-quartile pour l'ensemble des tailles et pour les tailles supérieure à $140$ cm. Laquelle de ces deux caractéristiques vous semble la plus robuste?\n",
    "\n",
    "**Solution**:  \n",
    "  \n"
   ]
  },
  {
   "cell_type": "code",
   "execution_count": null,
   "id": "9d657969-320a-4bd6-8722-69081a558e32",
   "metadata": {
    "tags": []
   },
   "outputs": [],
   "source": [
    "# Calcul de l'écart inter-quartiles\n",
    "#C3\n",
    "quantile = data.Taille.quantile((0.25,0.75), interpolation = \"inverted_cdf\").rename(\"Quantiles\").to_frame()#C3_\n",
    "#C3\n",
    "EIQ = quantile[\"Quantiles\"][0.75] - quantile[\"Quantiles\"][0.25]#C3_\n",
    "\n",
    "# Calcul de l'écart-type\n",
    "#C3\n",
    "std = data.Taille.std()#C3_\n",
    "\n",
    "# Sélection des tailles supérieures à 140cm\n",
    "data_140 = data[data.Taille > 140]\n",
    "\n",
    "# Calcul de l'écart inter-quartile et de l'écart-type pour les tailles supérieures à 140cm\n",
    "#C3\n",
    "quantile_140 = data_140.Taille.quantile((0.25,0.75), interpolation = \"inverted_cdf\").rename(\"Quantiles\").to_frame()#C3_\n",
    "#C3\n",
    "EIQ_140 = quantile_140[\"Quantiles\"][0.75] - quantile_140[\"Quantiles\"][0.25]#C3_\n",
    "#C3\n",
    "std_140 = data_140.Taille.std()#C3_\n",
    "\n",
    "# Affichage des valeures obtenues#C2\n",
    "print(f\"Sur l'ensemble des tailles observées, l'écart inter-quartile est EIQ = {EIQ}cm et l'écart-type est de {std:.2f}cm\")\n",
    "print(f\"Sur l'ensemble des tailles supérieures à 140cm, l'écart inter-quartile est EIQ = {EIQ_140}cm et l'écart-type est de {std_140:.2f}cm\")\n",
    "#C2_"
   ]
  },
  {
   "cell_type": "markdown",
   "execution_count": null,
   "id": "cf544f7d-0957-42f3-b356-27a1469460c4",
   "metadata": {
    "tags": []
   },
   "source": [
    "## Exercice 4:  \n",
    "\n",
    "On a observé les précipitations journalières 01.01.2000 - 10.07.2022 de la station météo Suisse de Changrins. "
   ]
  },
  {
   "cell_type": "code",
   "execution_count": null,
   "id": "5fe06f93-c3ba-47e4-92d0-193f0d540bc0",
   "metadata": {
    "tags": []
   },
   "outputs": [],
   "source": [
    "import pandas as pd\n",
    "data = pd.read_csv('Precipitations_journalieres_Changins.csv',sep=',',names= [\"Date\",\"Précipitation\"])"
   ]
  },
  {
   "cell_type": "markdown",
   "execution_count": null,
   "id": "210aed38-02ed-4ddc-9edd-c9af3ebdaec7",
   "metadata": {},
   "source": [
    "1) Calculer la moyenne et la médiane de ces données. Puis, faire un boxplot et un histogramme de ces données et faire apparaitre la moyenne et la médiane sur chacunes de ces figures."
   ]
  },
  {
   "cell_type": "code",
   "execution_count": null,
   "id": "f71d2f14-305d-4c84-9c76-6a8aca641cb4",
   "metadata": {
    "tags": []
   },
   "outputs": [],
   "source": [
    "import matplotlib.pyplot as plt\n",
    "# Calculer la moyenne et la médiane des tailles observées\n",
    "mean = ... \n",
    "median = ... \n",
    "\n",
    "# Faire un boxplot et un histogramme\n",
    "...\n"
   ]
  },
  {
   "cell_type": "markdown",
   "execution_count": null,
   "id": "8e68eae7-58e8-47fa-9418-12c56b519d01",
   "metadata": {},
   "source": [
    "2) Laquelle de ces deux caractéristiques représente le mieux la tendance centrale de la \n",
    "distribution? Justifiez votre réponse.\n",
    "\n",
    "**Solution**:  \n",
    "  \n"
   ]
  }
 ],
 "metadata": {
  "kernelspec": {
   "display_name": "Python 3 (ipykernel)",
   "language": "python",
   "name": "python3"
  },
  "language_info": {
   "codemirror_mode": {
    "name": "ipython",
    "version": 3
   },
   "file_extension": ".py",
   "mimetype": "text/x-python",
   "name": "python",
   "nbconvert_exporter": "python",
   "pygments_lexer": "ipython3",
   "version": "3.8.8"
  }
 },
 "nbformat": 4,
 "nbformat_minor": 5
}
